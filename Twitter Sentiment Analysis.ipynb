{
 "cells": [
  {
   "cell_type": "markdown",
   "id": "d0508f51",
   "metadata": {},
   "source": [
    "# Authenticate to Twitter"
   ]
  },
  {
   "cell_type": "code",
   "execution_count": 188,
   "id": "92d5a21a",
   "metadata": {},
   "outputs": [],
   "source": [
    "import pandas as pd\n",
    "import tweepy as tw\n",
    "import numpy as np\n",
    "import matplotlib.pyplot as plt"
   ]
  },
  {
   "cell_type": "code",
   "execution_count": 189,
   "id": "4c941450",
   "metadata": {},
   "outputs": [],
   "source": [
    "#Replace consumer_key,consumer_secret,access_token,access_token_secret with your own keys from twitter dev account\n",
    "consumer_key='xxxxxxxxx'\n",
    "consumer_secret='xxxxxxxxxx'\n",
    "access_token='xxxxxxxxxxxx'\n",
    "access_token_secret='xxxxxxxxxx'"
   ]
  },
  {
   "cell_type": "code",
   "execution_count": 190,
   "id": "5278b978",
   "metadata": {},
   "outputs": [],
   "source": [
    "#Authenticate\n",
    "auth=tw.OAuthHandler(consumer_key,consumer_secret)\n",
    "auth.set_access_token(access_token,access_token_secret)\n",
    "api=tw.API(auth,wait_on_rate_limit=True)"
   ]
  },
  {
   "cell_type": "code",
   "execution_count": 191,
   "id": "2e5e0263",
   "metadata": {},
   "outputs": [],
   "source": [
    "#Replace bearer_token with your personal bearer__token\n",
    "client = tw.Client(bearer_token='xxxxxxxxxxxxxxxxx')"
   ]
  },
  {
   "cell_type": "markdown",
   "id": "fc64e393",
   "metadata": {},
   "source": [
    "# Getting the tweets"
   ]
  },
  {
   "cell_type": "code",
   "execution_count": 193,
   "id": "905f1c95",
   "metadata": {},
   "outputs": [
    {
     "name": "stdout",
     "output_type": "stream",
     "text": [
      "Cristiano Ronaldo\n"
     ]
    }
   ],
   "source": [
    "hashtag = input() #This decides what our sentiment analysis is going to be about\n",
    "tweets=tw.Paginator(client.search_recent_tweets, query=hashtag,tweet_fields=['context_annotations', 'created_at'], max_results=100).flatten(limit=1000)"
   ]
  },
  {
   "cell_type": "code",
   "execution_count": 194,
   "id": "62a903ad",
   "metadata": {},
   "outputs": [],
   "source": [
    "#Creates a dictionary mapping tweet text to \"Tweets\" and time it was posted to \"Timestamp\"\n",
    "tweet_dict=[{\"Tweets\":tweet.text,\"Timestamp\":tweet.created_at} for tweet in tweets]"
   ]
  },
  {
   "cell_type": "code",
   "execution_count": 195,
   "id": "f46c2247",
   "metadata": {},
   "outputs": [
    {
     "data": {
      "text/plain": [
       "[{'Tweets': 'I agree Cristiano Ronaldo is above all. https://t.co/Fhk93hXfRV https://t.co/7qtCeQ26ay',\n",
       "  'Timestamp': datetime.datetime(2022, 9, 16, 15, 4, 33, tzinfo=datetime.timezone.utc)},\n",
       " {'Tweets': \"RT @FootballMissess: Throwback to when Nani ruined Cristiano Ronaldo's arguably best goal for Portugal. 😂😭 https://t.co/4AHiZudJli\",\n",
       "  'Timestamp': datetime.datetime(2022, 9, 16, 15, 4, 29, tzinfo=datetime.timezone.utc)},\n",
       " {'Tweets': \"RT @FootballMissess: Throwback to when Nani ruined Cristiano Ronaldo's arguably best goal for Portugal. 😂😭 https://t.co/4AHiZudJli\",\n",
       "  'Timestamp': datetime.datetime(2022, 9, 16, 15, 4, 27, tzinfo=datetime.timezone.utc)},\n",
       " {'Tweets': \"RT @TimelineCR7: Sheriff's whole stadium did the SIUUU celebration along with Cristiano Ronaldo after he scored a penalty against them.\\n\\nTh…\",\n",
       "  'Timestamp': datetime.datetime(2022, 9, 16, 15, 4, 23, tzinfo=datetime.timezone.utc)},\n",
       " {'Tweets': 'RT @TeamCRonaldo: Throwback to when Cristiano Ronaldo humbled Barcelona. 🐐🤫 https://t.co/2egzz74AmJ',\n",
       "  'Timestamp': datetime.datetime(2022, 9, 16, 15, 4, 23, tzinfo=datetime.timezone.utc)},\n",
       " {'Tweets': 'RT @SportsLeoAfrica: Messi and Ronaldo have scored the same number of goals without penalties in their Careers \\n\\nBetween Messi and Ronaldo,…',\n",
       "  'Timestamp': datetime.datetime(2022, 9, 16, 15, 4, 22, tzinfo=datetime.timezone.utc)},\n",
       " {'Tweets': \"RT @FootballMissess: Throwback to when Nani ruined Cristiano Ronaldo's arguably best goal for Portugal. 😂😭 https://t.co/4AHiZudJli\",\n",
       "  'Timestamp': datetime.datetime(2022, 9, 16, 15, 4, 21, tzinfo=datetime.timezone.utc)},\n",
       " {'Tweets': 'RT @Ferlandista: Cristiano Ronaldo cuando le ovacionan al marcar un penalti contra el Sheriff, sin haber tocado bola el resto de la tempora…',\n",
       "  'Timestamp': datetime.datetime(2022, 9, 16, 15, 4, 19, tzinfo=datetime.timezone.utc)},\n",
       " {'Tweets': '@nai_jes @memesdeanimesx \"Sem azeitonas nao se faz uma boa pizza\" - Ronaldo, Cristiano 2035',\n",
       "  'Timestamp': datetime.datetime(2022, 9, 16, 15, 4, 19, tzinfo=datetime.timezone.utc)},\n",
       " {'Tweets': 'RT @ActuFoot_: Ce coup franc de Cristiano Ronaldo face à la Roja en 2018. 🤩💫\\n\\nIl finira le match sur un triplé. 🎩  \\n\\n🎥 @FIFAWorldCup  https…',\n",
       "  'Timestamp': datetime.datetime(2022, 9, 16, 15, 4, 18, tzinfo=datetime.timezone.utc)}]"
      ]
     },
     "execution_count": 195,
     "metadata": {},
     "output_type": "execute_result"
    }
   ],
   "source": [
    "#Shows most recent ten tweets\n",
    "tweet_dict[:10]"
   ]
  },
  {
   "cell_type": "code",
   "execution_count": 196,
   "id": "e1033505",
   "metadata": {},
   "outputs": [
    {
     "data": {
      "text/html": [
       "<div>\n",
       "<style scoped>\n",
       "    .dataframe tbody tr th:only-of-type {\n",
       "        vertical-align: middle;\n",
       "    }\n",
       "\n",
       "    .dataframe tbody tr th {\n",
       "        vertical-align: top;\n",
       "    }\n",
       "\n",
       "    .dataframe thead th {\n",
       "        text-align: right;\n",
       "    }\n",
       "</style>\n",
       "<table border=\"1\" class=\"dataframe\">\n",
       "  <thead>\n",
       "    <tr style=\"text-align: right;\">\n",
       "      <th></th>\n",
       "      <th>Tweets</th>\n",
       "      <th>Timestamp</th>\n",
       "    </tr>\n",
       "  </thead>\n",
       "  <tbody>\n",
       "    <tr>\n",
       "      <th>0</th>\n",
       "      <td>I agree Cristiano Ronaldo is above all. https:...</td>\n",
       "      <td>2022-09-16 15:04:33+00:00</td>\n",
       "    </tr>\n",
       "    <tr>\n",
       "      <th>1</th>\n",
       "      <td>RT @FootballMissess: Throwback to when Nani ru...</td>\n",
       "      <td>2022-09-16 15:04:29+00:00</td>\n",
       "    </tr>\n",
       "    <tr>\n",
       "      <th>2</th>\n",
       "      <td>RT @FootballMissess: Throwback to when Nani ru...</td>\n",
       "      <td>2022-09-16 15:04:27+00:00</td>\n",
       "    </tr>\n",
       "    <tr>\n",
       "      <th>3</th>\n",
       "      <td>RT @TimelineCR7: Sheriff's whole stadium did t...</td>\n",
       "      <td>2022-09-16 15:04:23+00:00</td>\n",
       "    </tr>\n",
       "    <tr>\n",
       "      <th>4</th>\n",
       "      <td>RT @TeamCRonaldo: Throwback to when Cristiano ...</td>\n",
       "      <td>2022-09-16 15:04:23+00:00</td>\n",
       "    </tr>\n",
       "  </tbody>\n",
       "</table>\n",
       "</div>"
      ],
      "text/plain": [
       "                                              Tweets                 Timestamp\n",
       "0  I agree Cristiano Ronaldo is above all. https:... 2022-09-16 15:04:33+00:00\n",
       "1  RT @FootballMissess: Throwback to when Nani ru... 2022-09-16 15:04:29+00:00\n",
       "2  RT @FootballMissess: Throwback to when Nani ru... 2022-09-16 15:04:27+00:00\n",
       "3  RT @TimelineCR7: Sheriff's whole stadium did t... 2022-09-16 15:04:23+00:00\n",
       "4  RT @TeamCRonaldo: Throwback to when Cristiano ... 2022-09-16 15:04:23+00:00"
      ]
     },
     "execution_count": 196,
     "metadata": {},
     "output_type": "execute_result"
    }
   ],
   "source": [
    "#Converting the dictionary to a dataframe\n",
    "df=pd.DataFrame.from_dict(tweet_dict)\n",
    "df.head()"
   ]
  },
  {
   "cell_type": "markdown",
   "id": "418e299d",
   "metadata": {},
   "source": [
    "# Preprocessing"
   ]
  },
  {
   "cell_type": "code",
   "execution_count": 197,
   "id": "42a2770e",
   "metadata": {},
   "outputs": [],
   "source": [
    "import nltk\n",
    "from nltk.corpus import stopwords\n",
    "\n",
    "import textblob\n",
    "from textblob import Word,TextBlob"
   ]
  },
  {
   "cell_type": "code",
   "execution_count": 198,
   "id": "463e55b8",
   "metadata": {},
   "outputs": [],
   "source": [
    "#Creating the stopwords we wish to remove\n",
    "stop_words=stopwords.words('english')\n",
    "custom_stopwords=['RT',hashtag]"
   ]
  },
  {
   "cell_type": "code",
   "execution_count": 199,
   "id": "093d4c46",
   "metadata": {},
   "outputs": [],
   "source": [
    "import re,string\n",
    "\n",
    "#Removes links from the tweet\n",
    "def strip_links(text):\n",
    "    link_regex = re.compile('((https?):((//)|(\\\\\\\\))+([\\w\\d:#@%/;$()~_?\\+-=\\\\\\.&](#!)?)*)', re.DOTALL)\n",
    "    links = re.findall(link_regex, text)\n",
    "    for link in links:\n",
    "        text = text.replace(link[0], ', ')    \n",
    "    return text\n",
    "\n",
    "#Removes hashtags and mentions from the tweet\n",
    "def strip_all_entities(text):\n",
    "    entity_prefixes = ['@','#']\n",
    "    for separator in  string.punctuation:\n",
    "        if separator not in entity_prefixes :\n",
    "            text = text.replace(separator,' ')\n",
    "    words = []\n",
    "    for word in text.split():\n",
    "        word = word.strip()\n",
    "        if word:\n",
    "            if word[0] not in entity_prefixes:\n",
    "                words.append(word)\n",
    "    return ' '.join(words)\n",
    "\n",
    "df['Preprocessed Tweet']=df['Tweets'].apply(lambda x:strip_all_entities(strip_links(x)))"
   ]
  },
  {
   "cell_type": "code",
   "execution_count": 200,
   "id": "92d25ae5",
   "metadata": {},
   "outputs": [],
   "source": [
    "#Removing stopwords and custom stopwords\n",
    "def preprocess_tweets(tweet,custom_stopwords):\n",
    "    preprocessed_tweet=tweet\n",
    "    preprocessed_tweet.replace('[^\\w\\s]','')\n",
    "    preprocessed_tweet=\" \".join(word for word in preprocessed_tweet.split() if word not in stop_words)\n",
    "    preprocessed_tweet=\" \".join(word for word in preprocessed_tweet.split() if word not in custom_stopwords)\n",
    "    preprocessed_tweet=\" \".join(Word(word).lemmatize() for word in preprocessed_tweet.split())\n",
    "    return(preprocessed_tweet)\n",
    "\n",
    "df['Preprocessed Tweet']=df['Preprocessed Tweet'].apply(lambda x:preprocess_tweets(x,custom_stopwords))"
   ]
  },
  {
   "cell_type": "code",
   "execution_count": 201,
   "id": "d06a1607",
   "metadata": {},
   "outputs": [],
   "source": [
    "df=df.sample(frac=1,random_state=1).reset_index() #Shuffling sample just to get different head values"
   ]
  },
  {
   "cell_type": "code",
   "execution_count": 202,
   "id": "a0daeb03",
   "metadata": {},
   "outputs": [
    {
     "data": {
      "text/html": [
       "<div>\n",
       "<style scoped>\n",
       "    .dataframe tbody tr th:only-of-type {\n",
       "        vertical-align: middle;\n",
       "    }\n",
       "\n",
       "    .dataframe tbody tr th {\n",
       "        vertical-align: top;\n",
       "    }\n",
       "\n",
       "    .dataframe thead th {\n",
       "        text-align: right;\n",
       "    }\n",
       "</style>\n",
       "<table border=\"1\" class=\"dataframe\">\n",
       "  <thead>\n",
       "    <tr style=\"text-align: right;\">\n",
       "      <th></th>\n",
       "      <th>index</th>\n",
       "      <th>Tweets</th>\n",
       "      <th>Timestamp</th>\n",
       "      <th>Preprocessed Tweet</th>\n",
       "    </tr>\n",
       "  </thead>\n",
       "  <tbody>\n",
       "    <tr>\n",
       "      <th>0</th>\n",
       "      <td>507</td>\n",
       "      <td>RT @FootballMissess: Throwback to when Nani ru...</td>\n",
       "      <td>2022-09-16 14:49:31+00:00</td>\n",
       "      <td>Throwback Nani ruined Cristiano Ronaldo arguab...</td>\n",
       "    </tr>\n",
       "    <tr>\n",
       "      <th>1</th>\n",
       "      <td>818</td>\n",
       "      <td>@_ritji @pyr3xpioche @weekndutd @Z7Pcvxkedd @a...</td>\n",
       "      <td>2022-09-16 14:38:41+00:00</td>\n",
       "      <td>ritji agree pique bigger Ronaldo 🙄 PS Pique ra...</td>\n",
       "    </tr>\n",
       "    <tr>\n",
       "      <th>2</th>\n",
       "      <td>452</td>\n",
       "      <td>RT @TimelineCR7: The ONLY badge Cristiano Rona...</td>\n",
       "      <td>2022-09-16 14:51:04+00:00</td>\n",
       "      <td>The ONLY badge Cristiano Ronaldo ever kissed 🤍</td>\n",
       "    </tr>\n",
       "    <tr>\n",
       "      <th>3</th>\n",
       "      <td>368</td>\n",
       "      <td>RT @PMar7inezz: ¡¡Acá está el Manchester Unite...</td>\n",
       "      <td>2022-09-16 14:53:20+00:00</td>\n",
       "      <td>¡¡Acá está el Manchester United de Cristiano R...</td>\n",
       "    </tr>\n",
       "    <tr>\n",
       "      <th>4</th>\n",
       "      <td>242</td>\n",
       "      <td>RT @MadridXtra: 🎙| Dani Alves: “Cristiano Rona...</td>\n",
       "      <td>2022-09-16 14:56:53+00:00</td>\n",
       "      <td>🎙 Dani Alves “Cristiano Ronaldo difficult oppo...</td>\n",
       "    </tr>\n",
       "  </tbody>\n",
       "</table>\n",
       "</div>"
      ],
      "text/plain": [
       "   index                                             Tweets  \\\n",
       "0    507  RT @FootballMissess: Throwback to when Nani ru...   \n",
       "1    818  @_ritji @pyr3xpioche @weekndutd @Z7Pcvxkedd @a...   \n",
       "2    452  RT @TimelineCR7: The ONLY badge Cristiano Rona...   \n",
       "3    368  RT @PMar7inezz: ¡¡Acá está el Manchester Unite...   \n",
       "4    242  RT @MadridXtra: 🎙| Dani Alves: “Cristiano Rona...   \n",
       "\n",
       "                  Timestamp                                 Preprocessed Tweet  \n",
       "0 2022-09-16 14:49:31+00:00  Throwback Nani ruined Cristiano Ronaldo arguab...  \n",
       "1 2022-09-16 14:38:41+00:00  ritji agree pique bigger Ronaldo 🙄 PS Pique ra...  \n",
       "2 2022-09-16 14:51:04+00:00     The ONLY badge Cristiano Ronaldo ever kissed 🤍  \n",
       "3 2022-09-16 14:53:20+00:00  ¡¡Acá está el Manchester United de Cristiano R...  \n",
       "4 2022-09-16 14:56:53+00:00  🎙 Dani Alves “Cristiano Ronaldo difficult oppo...  "
      ]
     },
     "execution_count": 202,
     "metadata": {},
     "output_type": "execute_result"
    }
   ],
   "source": [
    "df.head()"
   ]
  },
  {
   "cell_type": "markdown",
   "id": "6a671590",
   "metadata": {},
   "source": [
    "# Calculate Sentiment"
   ]
  },
  {
   "cell_type": "code",
   "execution_count": 203,
   "id": "258c7b62",
   "metadata": {},
   "outputs": [],
   "source": [
    "#Polarity (-1,1) refers to the sentiment of the tweet (-1=negative and 1=positive) \n",
    "#whereas subjectivity refers to how subjective the tweet is\n",
    "df['polarity']=df['Preprocessed Tweet'].apply(lambda x:TextBlob(x).sentiment[0])\n",
    "df['subjectivity']=df['Preprocessed Tweet'].apply(lambda x:TextBlob(x).sentiment[1])"
   ]
  },
  {
   "cell_type": "code",
   "execution_count": 204,
   "id": "1ae1f164",
   "metadata": {},
   "outputs": [
    {
     "data": {
      "text/html": [
       "<div>\n",
       "<style scoped>\n",
       "    .dataframe tbody tr th:only-of-type {\n",
       "        vertical-align: middle;\n",
       "    }\n",
       "\n",
       "    .dataframe tbody tr th {\n",
       "        vertical-align: top;\n",
       "    }\n",
       "\n",
       "    .dataframe thead th {\n",
       "        text-align: right;\n",
       "    }\n",
       "</style>\n",
       "<table border=\"1\" class=\"dataframe\">\n",
       "  <thead>\n",
       "    <tr style=\"text-align: right;\">\n",
       "      <th></th>\n",
       "      <th>polarity</th>\n",
       "      <th>subjectivity</th>\n",
       "    </tr>\n",
       "  </thead>\n",
       "  <tbody>\n",
       "    <tr>\n",
       "      <th>mean</th>\n",
       "      <td>0.2499</td>\n",
       "      <td>0.212508</td>\n",
       "    </tr>\n",
       "    <tr>\n",
       "      <th>amax</th>\n",
       "      <td>1.0000</td>\n",
       "      <td>1.000000</td>\n",
       "    </tr>\n",
       "    <tr>\n",
       "      <th>amin</th>\n",
       "      <td>-0.8000</td>\n",
       "      <td>0.000000</td>\n",
       "    </tr>\n",
       "    <tr>\n",
       "      <th>median</th>\n",
       "      <td>0.0000</td>\n",
       "      <td>0.100000</td>\n",
       "    </tr>\n",
       "  </tbody>\n",
       "</table>\n",
       "</div>"
      ],
      "text/plain": [
       "        polarity  subjectivity\n",
       "mean      0.2499      0.212508\n",
       "amax      1.0000      1.000000\n",
       "amin     -0.8000      0.000000\n",
       "median    0.0000      0.100000"
      ]
     },
     "execution_count": 204,
     "metadata": {},
     "output_type": "execute_result"
    }
   ],
   "source": [
    "#Displaying the aggregate values\n",
    "df[['polarity','subjectivity']].agg([np.mean,np.max,np.min,np.median])"
   ]
  },
  {
   "cell_type": "code",
   "execution_count": 205,
   "id": "5252f591",
   "metadata": {},
   "outputs": [
    {
     "data": {
      "text/plain": [
       "(1000, 6)"
      ]
     },
     "execution_count": 205,
     "metadata": {},
     "output_type": "execute_result"
    }
   ],
   "source": [
    "df.shape"
   ]
  },
  {
   "cell_type": "code",
   "execution_count": 206,
   "id": "d4694035",
   "metadata": {},
   "outputs": [],
   "source": [
    "#Creating a dataframe which will help us find the moving average of the sentiment of the tweets\n",
    "moving_average=df[['Timestamp','polarity']]\n",
    "moving_average=moving_average.sort_values(by=\"Timestamp\",ascending=True)\n",
    "moving_average['MA polarity']=moving_average.polarity.rolling(10,min_periods=3).mean()"
   ]
  },
  {
   "cell_type": "code",
   "execution_count": 207,
   "id": "078b569c",
   "metadata": {},
   "outputs": [
    {
     "data": {
      "text/html": [
       "<div>\n",
       "<style scoped>\n",
       "    .dataframe tbody tr th:only-of-type {\n",
       "        vertical-align: middle;\n",
       "    }\n",
       "\n",
       "    .dataframe tbody tr th {\n",
       "        vertical-align: top;\n",
       "    }\n",
       "\n",
       "    .dataframe thead th {\n",
       "        text-align: right;\n",
       "    }\n",
       "</style>\n",
       "<table border=\"1\" class=\"dataframe\">\n",
       "  <thead>\n",
       "    <tr style=\"text-align: right;\">\n",
       "      <th></th>\n",
       "      <th>Timestamp</th>\n",
       "      <th>polarity</th>\n",
       "      <th>MA polarity</th>\n",
       "    </tr>\n",
       "  </thead>\n",
       "  <tbody>\n",
       "    <tr>\n",
       "      <th>665</th>\n",
       "      <td>2022-09-16 14:32:34+00:00</td>\n",
       "      <td>0.00</td>\n",
       "      <td>NaN</td>\n",
       "    </tr>\n",
       "    <tr>\n",
       "      <th>735</th>\n",
       "      <td>2022-09-16 14:32:35+00:00</td>\n",
       "      <td>0.00</td>\n",
       "      <td>NaN</td>\n",
       "    </tr>\n",
       "    <tr>\n",
       "      <th>134</th>\n",
       "      <td>2022-09-16 14:32:36+00:00</td>\n",
       "      <td>0.25</td>\n",
       "      <td>0.083333</td>\n",
       "    </tr>\n",
       "    <tr>\n",
       "      <th>201</th>\n",
       "      <td>2022-09-16 14:32:39+00:00</td>\n",
       "      <td>0.00</td>\n",
       "      <td>0.062500</td>\n",
       "    </tr>\n",
       "    <tr>\n",
       "      <th>254</th>\n",
       "      <td>2022-09-16 14:32:39+00:00</td>\n",
       "      <td>0.00</td>\n",
       "      <td>0.050000</td>\n",
       "    </tr>\n",
       "  </tbody>\n",
       "</table>\n",
       "</div>"
      ],
      "text/plain": [
       "                    Timestamp  polarity  MA polarity\n",
       "665 2022-09-16 14:32:34+00:00      0.00          NaN\n",
       "735 2022-09-16 14:32:35+00:00      0.00          NaN\n",
       "134 2022-09-16 14:32:36+00:00      0.25     0.083333\n",
       "201 2022-09-16 14:32:39+00:00      0.00     0.062500\n",
       "254 2022-09-16 14:32:39+00:00      0.00     0.050000"
      ]
     },
     "execution_count": 207,
     "metadata": {},
     "output_type": "execute_result"
    }
   ],
   "source": [
    "moving_average.head()"
   ]
  },
  {
   "cell_type": "code",
   "execution_count": 208,
   "id": "41b460ba",
   "metadata": {},
   "outputs": [
    {
     "data": {
      "text/plain": [
       "Text(0.5, 1.0, 'Cristiano Ronaldo 10 Tweet moving average polarity')"
      ]
     },
     "execution_count": 208,
     "metadata": {},
     "output_type": "execute_result"
    },
    {
     "data": {
      "image/png": "[encoded data removed]",
      "text/plain": [
       "<Figure size 936x720 with 1 Axes>"
      ]
     },
     "metadata": {
      "needs_background": "light"
     },
     "output_type": "display_data"
    }
   ],
   "source": [
    "#Plotting the moving average plot\n",
    "fig,axes=plt.subplots(1,1,figsize=(13,10))\n",
    "axes.plot(moving_average['Timestamp'],moving_average['MA polarity'])\n",
    "axes.set_title(hashtag+\" 10 Tweet moving average polarity\")"
   ]
  },
  {
   "cell_type": "code",
   "execution_count": null,
   "id": "5cd67b13",
   "metadata": {},
   "outputs": [],
   "source": []
  }
 ],
 "metadata": {
  "kernelspec": {
   "display_name": "Python 3 (ipykernel)",
   "language": "python",
   "name": "python3"
  },
  "language_info": {
   "codemirror_mode": {
    "name": "ipython",
    "version": 3
   },
   "file_extension": ".py",
   "mimetype": "text/x-python",
   "name": "python",
   "nbconvert_exporter": "python",
   "pygments_lexer": "ipython3",
   "version": "3.8.12"
  }
 },
 "nbformat": 4,
 "nbformat_minor": 5
}
