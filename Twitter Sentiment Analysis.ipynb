{
 "cells": [
  {
   "cell_type": "markdown",
   "id": "d0508f51",
   "metadata": {},
   "source": [
    "# Authenticate to Twitter"
   ]
  },
  {
   "cell_type": "code",
   "execution_count": 131,
   "id": "92d5a21a",
   "metadata": {},
   "outputs": [],
   "source": [
    "import pandas as pd\n",
    "import tweepy as tw\n",
    "import numpy as np\n",
    "import matplotlib.pyplot as plt"
   ]
  },
  {
   "cell_type": "code",
   "execution_count": 132,
   "id": "4c941450",
   "metadata": {},
   "outputs": [],
   "source": [
    "consumer_key='XsxeNqtPTvvtUAgTHThSa2zEG'\n",
    "consumer_secret='qSJdZaJBjI11Gfi4Odc5e40JXikioBMxDVqEmgCPg4AivQaGMz'\n",
    "access_token='1193077964121853957-rnhnICmBIu6dszrGiRDnRVwMNaE2eb'\n",
    "access_token_secret='lCZ1oipxnEYD4WORQvZazhb2Kp3An2G9XO5XEloAuKBto'"
   ]
  },
  {
   "cell_type": "code",
   "execution_count": 133,
   "id": "5278b978",
   "metadata": {},
   "outputs": [],
   "source": [
    "#Authenticate\n",
    "auth=tw.OAuthHandler(consumer_key,consumer_secret)\n",
    "auth.set_access_token(access_token,access_token_secret)\n",
    "api=tw.API(auth,wait_on_rate_limit=True)"
   ]
  },
  {
   "cell_type": "code",
   "execution_count": 134,
   "id": "2e5e0263",
   "metadata": {},
   "outputs": [],
   "source": [
    "client = tw.Client(bearer_token='AAAAAAAAAAAAAAAAAAAAAGRQhAEAAAAA3LJe3GQhMlupaXXt%2BcnAAtR9tik%3DNT7NrcN10bDGit8q0TRtElMk5h3e4Fej3F7fLYEHKq3X7JnkyW')"
   ]
  },
  {
   "cell_type": "markdown",
   "id": "fc64e393",
   "metadata": {},
   "source": [
    "# Getting the tweets"
   ]
  },
  {
   "cell_type": "code",
   "execution_count": 170,
   "id": "905f1c95",
   "metadata": {},
   "outputs": [
    {
     "name": "stdout",
     "output_type": "stream",
     "text": [
      "#MWII\n"
     ]
    }
   ],
   "source": [
    "hashtag = input() #This decides what our sentiment analysis is going to be about\n",
    "tweets=tw.Paginator(client.search_recent_tweets, query=hashtag,tweet_fields=['context_annotations', 'created_at'], max_results=100).flatten(limit=1000)"
   ]
  },
  {
   "cell_type": "code",
   "execution_count": 171,
   "id": "62a903ad",
   "metadata": {},
   "outputs": [],
   "source": [
    "tweet_dict=[{\"Tweets\":tweet.text,\"Timestamp\":tweet.created_at} for tweet in tweets]"
   ]
  },
  {
   "cell_type": "code",
   "execution_count": 172,
   "id": "f46c2247",
   "metadata": {},
   "outputs": [
    {
     "data": {
      "text/plain": [
       "[{'Tweets': 'RT @Elixir_xr: بمناسبة نزول البيتا هذا الاسبوع، حاب اعلن اول سحب اسويه. السحب راح يكون على ٥ نسخ لعبة #MWII و الفايز يقدر يستبدل الجائزة بم…',\n",
       "  'Timestamp': datetime.datetime(2022, 9, 16, 13, 39, 56, tzinfo=datetime.timezone.utc)},\n",
       " {'Tweets': 'RT @AndrewTyrrell_: DOING A GIVEAWAY FOR BETA CODES FOR #MW2 #MWII GOOD LUCK, ILL PICK THE WINNER IN 15 MINUTES!!!!',\n",
       "  'Timestamp': datetime.datetime(2022, 9, 16, 13, 39, 54, tzinfo=datetime.timezone.utc)},\n",
       " {'Tweets': 'I have few #ModernWarfare2 #MWII codes to give away for this weekend! Must following all to win! 👇🏽\\n\\n✅ https://t.co/cOXwGIwpc5 ✅https://t.co/kDOOKoF1P4 \\n✅https://t.co/Dmk6CKuqL3\\n✅https://t.co/jpX799zrEv',\n",
       "  'Timestamp': datetime.datetime(2022, 9, 16, 13, 39, 52, tzinfo=datetime.timezone.utc)},\n",
       " {'Tweets': 'RT @pamajOOC: 💦⚾️⚾️ #MWII https://t.co/G3a9BzT5rZ',\n",
       "  'Timestamp': datetime.datetime(2022, 9, 16, 13, 39, 50, tzinfo=datetime.timezone.utc)},\n",
       " {'Tweets': 'RT @FREEMW2BETACODE: Just restocked 300 #MW2 #MWII #ModernWarfare2 #ModernWarfareII beta codes?\\n\\nWho still needs a beta code? \\nLike + RT +…',\n",
       "  'Timestamp': datetime.datetime(2022, 9, 16, 13, 39, 47, tzinfo=datetime.timezone.utc)},\n",
       " {'Tweets': \"RT @Complexity: HE'S A 3RD PERSON DEMON \\n\\n@DiazBiffle 🤯 #MWII https://t.co/VC9eYuoRdT\",\n",
       "  'Timestamp': datetime.datetime(2022, 9, 16, 13, 39, 45, tzinfo=datetime.timezone.utc)},\n",
       " {'Tweets': 'RT @TheMW2BetaPlug: 50 people that LIKE this tweet will be DM’d a #MWII\\xa0\\xa0\\xa0\\xa0\\xa0 beta code.\\n\\nBe following @TheMW2BetaPlug &amp; @gambabit \\n\\n+ DM me…',\n",
       "  'Timestamp': datetime.datetime(2022, 9, 16, 13, 39, 44, tzinfo=datetime.timezone.utc)},\n",
       " {'Tweets': 'RT @PlaystationSize: 🚨 100 BETA CODES GIVEAWAY\\n\\n🟥 To Enter :\\n1- Follow @PlaystationSize &amp; @BetaBoxCodes\\n2- ❤️ + RT\\n\\n🟫 6H \\n\\n🟧 #MW2 #MWII htt…',\n",
       "  'Timestamp': datetime.datetime(2022, 9, 16, 13, 39, 40, tzinfo=datetime.timezone.utc)},\n",
       " {'Tweets': 'Who hitting them trickshots on #MWII later❓👀',\n",
       "  'Timestamp': datetime.datetime(2022, 9, 16, 13, 39, 39, tzinfo=datetime.timezone.utc)},\n",
       " {'Tweets': 'RT @charlieINTEL: here are the vehicles #mwii #warzone2 https://t.co/96DlOFMlPU',\n",
       "  'Timestamp': datetime.datetime(2022, 9, 16, 13, 39, 37, tzinfo=datetime.timezone.utc)}]"
      ]
     },
     "execution_count": 172,
     "metadata": {},
     "output_type": "execute_result"
    }
   ],
   "source": [
    "tweet_dict[:10]"
   ]
  },
  {
   "cell_type": "code",
   "execution_count": 173,
   "id": "e1033505",
   "metadata": {},
   "outputs": [
    {
     "data": {
      "text/html": [
       "<div>\n",
       "<style scoped>\n",
       "    .dataframe tbody tr th:only-of-type {\n",
       "        vertical-align: middle;\n",
       "    }\n",
       "\n",
       "    .dataframe tbody tr th {\n",
       "        vertical-align: top;\n",
       "    }\n",
       "\n",
       "    .dataframe thead th {\n",
       "        text-align: right;\n",
       "    }\n",
       "</style>\n",
       "<table border=\"1\" class=\"dataframe\">\n",
       "  <thead>\n",
       "    <tr style=\"text-align: right;\">\n",
       "      <th></th>\n",
       "      <th>Tweets</th>\n",
       "      <th>Timestamp</th>\n",
       "    </tr>\n",
       "  </thead>\n",
       "  <tbody>\n",
       "    <tr>\n",
       "      <th>0</th>\n",
       "      <td>RT @Elixir_xr: بمناسبة نزول البيتا هذا الاسبوع...</td>\n",
       "      <td>2022-09-16 13:39:56+00:00</td>\n",
       "    </tr>\n",
       "    <tr>\n",
       "      <th>1</th>\n",
       "      <td>RT @AndrewTyrrell_: DOING A GIVEAWAY FOR BETA ...</td>\n",
       "      <td>2022-09-16 13:39:54+00:00</td>\n",
       "    </tr>\n",
       "    <tr>\n",
       "      <th>2</th>\n",
       "      <td>I have few #ModernWarfare2 #MWII codes to give...</td>\n",
       "      <td>2022-09-16 13:39:52+00:00</td>\n",
       "    </tr>\n",
       "    <tr>\n",
       "      <th>3</th>\n",
       "      <td>RT @pamajOOC: 💦⚾️⚾️ #MWII https://t.co/G3a9BzT5rZ</td>\n",
       "      <td>2022-09-16 13:39:50+00:00</td>\n",
       "    </tr>\n",
       "    <tr>\n",
       "      <th>4</th>\n",
       "      <td>RT @FREEMW2BETACODE: Just restocked 300 #MW2 #...</td>\n",
       "      <td>2022-09-16 13:39:47+00:00</td>\n",
       "    </tr>\n",
       "  </tbody>\n",
       "</table>\n",
       "</div>"
      ],
      "text/plain": [
       "                                              Tweets                 Timestamp\n",
       "0  RT @Elixir_xr: بمناسبة نزول البيتا هذا الاسبوع... 2022-09-16 13:39:56+00:00\n",
       "1  RT @AndrewTyrrell_: DOING A GIVEAWAY FOR BETA ... 2022-09-16 13:39:54+00:00\n",
       "2  I have few #ModernWarfare2 #MWII codes to give... 2022-09-16 13:39:52+00:00\n",
       "3  RT @pamajOOC: 💦⚾️⚾️ #MWII https://t.co/G3a9BzT5rZ 2022-09-16 13:39:50+00:00\n",
       "4  RT @FREEMW2BETACODE: Just restocked 300 #MW2 #... 2022-09-16 13:39:47+00:00"
      ]
     },
     "execution_count": 173,
     "metadata": {},
     "output_type": "execute_result"
    }
   ],
   "source": [
    "df=pd.DataFrame.from_dict(tweet_dict)\n",
    "df.head()"
   ]
  },
  {
   "cell_type": "markdown",
   "id": "418e299d",
   "metadata": {},
   "source": [
    "# Preprocessing"
   ]
  },
  {
   "cell_type": "code",
   "execution_count": 174,
   "id": "42a2770e",
   "metadata": {},
   "outputs": [],
   "source": [
    "import nltk\n",
    "from nltk.corpus import stopwords\n",
    "\n",
    "import textblob\n",
    "from textblob import Word,TextBlob"
   ]
  },
  {
   "cell_type": "code",
   "execution_count": 175,
   "id": "463e55b8",
   "metadata": {},
   "outputs": [],
   "source": [
    "stop_words=stopwords.words('english')\n",
    "custom_stopwords=['RT',hashtag]"
   ]
  },
  {
   "cell_type": "code",
   "execution_count": 176,
   "id": "95ee96ad",
   "metadata": {},
   "outputs": [],
   "source": [
    "import re,string\n",
    "\n",
    "#Removes links from the tweet\n",
    "def strip_links(text):\n",
    "    link_regex = re.compile('((https?):((//)|(\\\\\\\\))+([\\w\\d:#@%/;$()~_?\\+-=\\\\\\.&](#!)?)*)', re.DOTALL)\n",
    "    links = re.findall(link_regex, text)\n",
    "    for link in links:\n",
    "        text = text.replace(link[0], ', ')    \n",
    "    return text\n",
    "\n",
    "#Removes hashtags and mentions from the tweet\n",
    "def strip_all_entities(text):\n",
    "    entity_prefixes = ['@','#']\n",
    "    for separator in  string.punctuation:\n",
    "        if separator not in entity_prefixes :\n",
    "            text = text.replace(separator,' ')\n",
    "    words = []\n",
    "    for word in text.split():\n",
    "        word = word.strip()\n",
    "        if word:\n",
    "            if word[0] not in entity_prefixes:\n",
    "                words.append(word)\n",
    "    return ' '.join(words)\n",
    "\n",
    "df['Preprocessed Tweet']=df['Tweets'].apply(lambda x:strip_all_entities(strip_links(x)))"
   ]
  },
  {
   "cell_type": "code",
   "execution_count": 177,
   "id": "92d25ae5",
   "metadata": {},
   "outputs": [],
   "source": [
    "#Removing stopwords and custom stopwords\n",
    "def preprocess_tweets(tweet,custom_stopwords):\n",
    "    preprocessed_tweet=tweet\n",
    "    preprocessed_tweet.replace('[^\\w\\s]','')\n",
    "    preprocessed_tweet=\" \".join(word for word in preprocessed_tweet.split() if word not in stop_words)\n",
    "    preprocessed_tweet=\" \".join(word for word in preprocessed_tweet.split() if word not in custom_stopwords)\n",
    "    preprocessed_tweet=\" \".join(Word(word).lemmatize() for word in preprocessed_tweet.split())\n",
    "    return(preprocessed_tweet)\n",
    "\n",
    "df['Preprocessed Tweet']=df['Preprocessed Tweet'].apply(lambda x:preprocess_tweets(x,custom_stopwords))"
   ]
  },
  {
   "cell_type": "code",
   "execution_count": 178,
   "id": "d06a1607",
   "metadata": {},
   "outputs": [],
   "source": [
    "df=df.sample(frac=1,random_state=1).reset_index() #Shuffling sample just to get different head values"
   ]
  },
  {
   "cell_type": "code",
   "execution_count": 179,
   "id": "a0daeb03",
   "metadata": {},
   "outputs": [
    {
     "data": {
      "text/html": [
       "<div>\n",
       "<style scoped>\n",
       "    .dataframe tbody tr th:only-of-type {\n",
       "        vertical-align: middle;\n",
       "    }\n",
       "\n",
       "    .dataframe tbody tr th {\n",
       "        vertical-align: top;\n",
       "    }\n",
       "\n",
       "    .dataframe thead th {\n",
       "        text-align: right;\n",
       "    }\n",
       "</style>\n",
       "<table border=\"1\" class=\"dataframe\">\n",
       "  <thead>\n",
       "    <tr style=\"text-align: right;\">\n",
       "      <th></th>\n",
       "      <th>index</th>\n",
       "      <th>Tweets</th>\n",
       "      <th>Timestamp</th>\n",
       "      <th>Preprocessed Tweet</th>\n",
       "    </tr>\n",
       "  </thead>\n",
       "  <tbody>\n",
       "    <tr>\n",
       "      <th>0</th>\n",
       "      <td>507</td>\n",
       "      <td>RT @TheEsportsCloud: JUST GOT EMAILED 50 MORE ...</td>\n",
       "      <td>2022-09-16 13:25:23+00:00</td>\n",
       "      <td>JUST GOT EMAILED 50 MORE BETA CODES Who’s acti...</td>\n",
       "    </tr>\n",
       "    <tr>\n",
       "      <th>1</th>\n",
       "      <td>818</td>\n",
       "      <td>RT @CODmwfeed: 🚨GIVEAWAY 🚨MW2 BETA CODE (ALL P...</td>\n",
       "      <td>2022-09-16 13:16:48+00:00</td>\n",
       "      <td>🚨GIVEAWAY 🚨MW2 BETA CODE ALL PLATFORMS To Ente...</td>\n",
       "    </tr>\n",
       "    <tr>\n",
       "      <th>2</th>\n",
       "      <td>452</td>\n",
       "      <td>RT @Gameblog: 🚨⭐ CONCOURS ⭐🚨\\n\\n@CallofDutyFR ...</td>\n",
       "      <td>2022-09-16 13:27:01+00:00</td>\n",
       "      <td>🚨⭐ CONCOURS ⭐🚨 et Gameblog vous font gagner 5 ...</td>\n",
       "    </tr>\n",
       "    <tr>\n",
       "      <th>3</th>\n",
       "      <td>368</td>\n",
       "      <td>RT @Pearja_: 🎁 Giveaway / Concours 🔥\\n\\nJ'ai 3...</td>\n",
       "      <td>2022-09-16 13:29:40+00:00</td>\n",
       "      <td>🎁 Giveaway Concours 🔥 J ai 3 code pour la Beta...</td>\n",
       "    </tr>\n",
       "    <tr>\n",
       "      <th>4</th>\n",
       "      <td>242</td>\n",
       "      <td>RT @TheEsportsCloud: JUST GOT EMAILED 50 MORE ...</td>\n",
       "      <td>2022-09-16 13:33:12+00:00</td>\n",
       "      <td>JUST GOT EMAILED 50 MORE BETA CODES Who’s acti...</td>\n",
       "    </tr>\n",
       "  </tbody>\n",
       "</table>\n",
       "</div>"
      ],
      "text/plain": [
       "   index                                             Tweets  \\\n",
       "0    507  RT @TheEsportsCloud: JUST GOT EMAILED 50 MORE ...   \n",
       "1    818  RT @CODmwfeed: 🚨GIVEAWAY 🚨MW2 BETA CODE (ALL P...   \n",
       "2    452  RT @Gameblog: 🚨⭐ CONCOURS ⭐🚨\\n\\n@CallofDutyFR ...   \n",
       "3    368  RT @Pearja_: 🎁 Giveaway / Concours 🔥\\n\\nJ'ai 3...   \n",
       "4    242  RT @TheEsportsCloud: JUST GOT EMAILED 50 MORE ...   \n",
       "\n",
       "                  Timestamp                                 Preprocessed Tweet  \n",
       "0 2022-09-16 13:25:23+00:00  JUST GOT EMAILED 50 MORE BETA CODES Who’s acti...  \n",
       "1 2022-09-16 13:16:48+00:00  🚨GIVEAWAY 🚨MW2 BETA CODE ALL PLATFORMS To Ente...  \n",
       "2 2022-09-16 13:27:01+00:00  🚨⭐ CONCOURS ⭐🚨 et Gameblog vous font gagner 5 ...  \n",
       "3 2022-09-16 13:29:40+00:00  🎁 Giveaway Concours 🔥 J ai 3 code pour la Beta...  \n",
       "4 2022-09-16 13:33:12+00:00  JUST GOT EMAILED 50 MORE BETA CODES Who’s acti...  "
      ]
     },
     "execution_count": 179,
     "metadata": {},
     "output_type": "execute_result"
    }
   ],
   "source": [
    "df.head()"
   ]
  },
  {
   "cell_type": "markdown",
   "id": "6a671590",
   "metadata": {},
   "source": [
    "# Calculate Sentiment"
   ]
  },
  {
   "cell_type": "code",
   "execution_count": 180,
   "id": "258c7b62",
   "metadata": {},
   "outputs": [],
   "source": [
    "df['polarity']=df['Preprocessed Tweet'].apply(lambda x:TextBlob(x).sentiment[0])\n",
    "df['subjectivity']=df['Preprocessed Tweet'].apply(lambda x:TextBlob(x).sentiment[1])"
   ]
  },
  {
   "cell_type": "code",
   "execution_count": 181,
   "id": "1ae1f164",
   "metadata": {},
   "outputs": [
    {
     "data": {
      "text/html": [
       "<div>\n",
       "<style scoped>\n",
       "    .dataframe tbody tr th:only-of-type {\n",
       "        vertical-align: middle;\n",
       "    }\n",
       "\n",
       "    .dataframe tbody tr th {\n",
       "        vertical-align: top;\n",
       "    }\n",
       "\n",
       "    .dataframe thead th {\n",
       "        text-align: right;\n",
       "    }\n",
       "</style>\n",
       "<table border=\"1\" class=\"dataframe\">\n",
       "  <thead>\n",
       "    <tr style=\"text-align: right;\">\n",
       "      <th></th>\n",
       "      <th>polarity</th>\n",
       "      <th>subjectivity</th>\n",
       "    </tr>\n",
       "  </thead>\n",
       "  <tbody>\n",
       "    <tr>\n",
       "      <th>mean</th>\n",
       "      <td>0.085795</td>\n",
       "      <td>0.179017</td>\n",
       "    </tr>\n",
       "    <tr>\n",
       "      <th>amax</th>\n",
       "      <td>1.000000</td>\n",
       "      <td>1.000000</td>\n",
       "    </tr>\n",
       "    <tr>\n",
       "      <th>amin</th>\n",
       "      <td>-0.600000</td>\n",
       "      <td>0.000000</td>\n",
       "    </tr>\n",
       "    <tr>\n",
       "      <th>median</th>\n",
       "      <td>0.000000</td>\n",
       "      <td>0.000000</td>\n",
       "    </tr>\n",
       "  </tbody>\n",
       "</table>\n",
       "</div>"
      ],
      "text/plain": [
       "        polarity  subjectivity\n",
       "mean    0.085795      0.179017\n",
       "amax    1.000000      1.000000\n",
       "amin   -0.600000      0.000000\n",
       "median  0.000000      0.000000"
      ]
     },
     "execution_count": 181,
     "metadata": {},
     "output_type": "execute_result"
    }
   ],
   "source": [
    "df[['polarity','subjectivity']].agg([np.mean,np.max,np.min,np.median])"
   ]
  },
  {
   "cell_type": "code",
   "execution_count": 182,
   "id": "5252f591",
   "metadata": {},
   "outputs": [
    {
     "data": {
      "text/plain": [
       "(1000, 6)"
      ]
     },
     "execution_count": 182,
     "metadata": {},
     "output_type": "execute_result"
    }
   ],
   "source": [
    "df.shape"
   ]
  },
  {
   "cell_type": "code",
   "execution_count": 183,
   "id": "d4694035",
   "metadata": {},
   "outputs": [],
   "source": [
    "moving_average=df[['Timestamp','polarity']]\n",
    "moving_average=moving_average.sort_values(by=\"Timestamp\",ascending=True)\n",
    "moving_average['MA polarity']=moving_average.polarity.rolling(10,min_periods=3).mean()"
   ]
  },
  {
   "cell_type": "code",
   "execution_count": 184,
   "id": "078b569c",
   "metadata": {},
   "outputs": [
    {
     "data": {
      "text/html": [
       "<div>\n",
       "<style scoped>\n",
       "    .dataframe tbody tr th:only-of-type {\n",
       "        vertical-align: middle;\n",
       "    }\n",
       "\n",
       "    .dataframe tbody tr th {\n",
       "        vertical-align: top;\n",
       "    }\n",
       "\n",
       "    .dataframe thead th {\n",
       "        text-align: right;\n",
       "    }\n",
       "</style>\n",
       "<table border=\"1\" class=\"dataframe\">\n",
       "  <thead>\n",
       "    <tr style=\"text-align: right;\">\n",
       "      <th></th>\n",
       "      <th>Timestamp</th>\n",
       "      <th>polarity</th>\n",
       "      <th>MA polarity</th>\n",
       "    </tr>\n",
       "  </thead>\n",
       "  <tbody>\n",
       "    <tr>\n",
       "      <th>735</th>\n",
       "      <td>2022-09-16 13:12:30+00:00</td>\n",
       "      <td>0.15</td>\n",
       "      <td>NaN</td>\n",
       "    </tr>\n",
       "    <tr>\n",
       "      <th>665</th>\n",
       "      <td>2022-09-16 13:12:30+00:00</td>\n",
       "      <td>0.15</td>\n",
       "      <td>NaN</td>\n",
       "    </tr>\n",
       "    <tr>\n",
       "      <th>201</th>\n",
       "      <td>2022-09-16 13:12:32+00:00</td>\n",
       "      <td>0.15</td>\n",
       "      <td>0.15</td>\n",
       "    </tr>\n",
       "    <tr>\n",
       "      <th>134</th>\n",
       "      <td>2022-09-16 13:12:32+00:00</td>\n",
       "      <td>0.15</td>\n",
       "      <td>0.15</td>\n",
       "    </tr>\n",
       "    <tr>\n",
       "      <th>49</th>\n",
       "      <td>2022-09-16 13:12:32+00:00</td>\n",
       "      <td>0.15</td>\n",
       "      <td>0.15</td>\n",
       "    </tr>\n",
       "  </tbody>\n",
       "</table>\n",
       "</div>"
      ],
      "text/plain": [
       "                    Timestamp  polarity  MA polarity\n",
       "735 2022-09-16 13:12:30+00:00      0.15          NaN\n",
       "665 2022-09-16 13:12:30+00:00      0.15          NaN\n",
       "201 2022-09-16 13:12:32+00:00      0.15         0.15\n",
       "134 2022-09-16 13:12:32+00:00      0.15         0.15\n",
       "49  2022-09-16 13:12:32+00:00      0.15         0.15"
      ]
     },
     "execution_count": 184,
     "metadata": {},
     "output_type": "execute_result"
    }
   ],
   "source": [
    "moving_average.head()"
   ]
  },
  {
   "cell_type": "code",
   "execution_count": 185,
   "id": "41b460ba",
   "metadata": {},
   "outputs": [
    {
     "data": {
      "text/plain": [
       "Text(0.5, 1.0, '#MWII 10 Tweet moving average polarity')"
      ]
     },
     "execution_count": 185,
     "metadata": {},
     "output_type": "execute_result"
    },
    {
     "data": {
      "image/png": "[encoded data removed]",
      "text/plain": [
       "<Figure size 936x720 with 1 Axes>"
      ]
     },
     "metadata": {
      "needs_background": "light"
     },
     "output_type": "display_data"
    }
   ],
   "source": [
    "fig,axes=plt.subplots(1,1,figsize=(13,10))\n",
    "axes.plot(moving_average['Timestamp'],moving_average['MA polarity'])\n",
    "axes.set_title(hashtag+\" 10 Tweet moving average polarity\")"
   ]
  },
  {
   "cell_type": "code",
   "execution_count": null,
   "id": "a0772aef",
   "metadata": {},
   "outputs": [],
   "source": []
  }
 ],
 "metadata": {
  "kernelspec": {
   "display_name": "Python 3 (ipykernel)",
   "language": "python",
   "name": "python3"
  },
  "language_info": {
   "codemirror_mode": {
    "name": "ipython",
    "version": 3
   },
   "file_extension": ".py",
   "mimetype": "text/x-python",
   "name": "python",
   "nbconvert_exporter": "python",
   "pygments_lexer": "ipython3",
   "version": "3.8.12"
  }
 },
 "nbformat": 4,
 "nbformat_minor": 5
}
